{
 "cells": [
  {
   "cell_type": "code",
   "execution_count": 1,
   "metadata": {},
   "outputs": [],
   "source": [
    "import requests\n",
    "from bs4 import BeautifulSoup\n",
    "import pandas as pd\n",
    "import re\n",
    "import spacy\n",
    "from spacy.lang.en.stop_words import STOP_WORDS\n",
    "from string import punctuation\n",
    "stopwords = list(STOP_WORDS)\n",
    "from heapq import nlargest\n"
   ]
  },
  {
   "cell_type": "code",
   "execution_count": 2,
   "metadata": {},
   "outputs": [],
   "source": [
    "from selenium import webdriver\n",
    "from selenium.webdriver.common.keys import Keys\n",
    "from selenium.webdriver.common.by import By\n",
    "from selenium.webdriver.support.ui import WebDriverWait\n",
    "from selenium.webdriver.support import expected_conditions as EC\n",
    "import time\n",
    "from fake_useragent import UserAgent\n",
    "import urllib\n",
    "\n"
   ]
  },
  {
   "cell_type": "code",
   "execution_count": 3,
   "metadata": {},
   "outputs": [],
   "source": [
    "from selenium import webdriver\n",
    "\n",
    "DRIVER_PATH = '/Users/kourosht/Downloads/chromedriver'\n",
    "driver = webdriver.Chrome(executable_path=DRIVER_PATH)\n"
   ]
  },
  {
   "cell_type": "code",
   "execution_count": null,
   "metadata": {},
   "outputs": [],
   "source": []
  },
  {
   "cell_type": "code",
   "execution_count": 4,
   "metadata": {},
   "outputs": [],
   "source": [
    "class Science:\n",
    "    query = \"'Science question help'\"\n",
    "    query = urllib.parse.quote_plus(query) \n",
    "    number_result = 9\n",
    "    ua = UserAgent()\n",
    "    google_url = \"https://www.google.com/search?q=\" + query + \"&num=\" + str(number_result)\n",
    "    response = requests.get(google_url, {\"User-Agent\": ua.random})\n",
    "    soup = BeautifulSoup(response.text, \"html.parser\")\n",
    "\n",
    "    result_div = soup.find_all('div', attrs = {'class': 'ZINbbc'})\n",
    "\n",
    "\n",
    "    links = []\n",
    "\n",
    "    titles = []\n",
    "\n",
    "    descriptions = []\n",
    "\n",
    "    for r in result_div:\n",
    "        try:\n",
    "            link = r.find('a', href = True)\n",
    "            title = r.find('div', attrs={'class':'vvjwJb'}).get_text()\n",
    "            description = r.find('div', attrs={'class':'s3v9rd'}).get_text()\n",
    "\n",
    "\n",
    "            if link != '' and title != '' and description != '': \n",
    "                links.append(link['href'])\n",
    "                titles.append(title)\n",
    "                descriptions.append(description)\n",
    "        except:\n",
    "            continue\n",
    "    \n",
    "    to_remove = []\n",
    "    clean_links = []\n",
    "    for i, l in enumerate(links):\n",
    "        clean = re.search('\\/url\\?q\\=(.*)\\&sa',l)\n",
    "        if clean is None:\n",
    "            to_remove.append(i)\n",
    "            continue\n",
    "        clean_links.append(clean.group(1))\n",
    "    for x in to_remove:\n",
    "        del titles[x]\n",
    "        del descriptions[x]\n",
    "    df = pd.DataFrame()\n",
    "    df['Links'] = clean_links\n",
    "    df['Discription'] = descriptions\n",
    "    df['Title'] = titles\n",
    "    pd.set_option('display.max_colwidth', 70)\n",
    "\n",
    "\n"
   ]
  },
  {
   "cell_type": "code",
   "execution_count": 5,
   "metadata": {},
   "outputs": [],
   "source": [
    "Sciencelinks = pd.DataFrame()\n",
    "\n",
    "Sciencelinks['Links'] = Science.df['Links'][:6]\n",
    "\n",
    "Sciencelinks.to_csv('Science1.csv')\n",
    "\n",
    "\n",
    "\n"
   ]
  },
  {
   "cell_type": "code",
   "execution_count": 6,
   "metadata": {},
   "outputs": [
    {
     "ename": "NameError",
     "evalue": "name 'Subjectlinks' is not defined",
     "output_type": "error",
     "traceback": [
      "\u001b[0;31m---------------------------------------------------------------------------\u001b[0m",
      "\u001b[0;31mNameError\u001b[0m                                 Traceback (most recent call last)",
      "\u001b[0;32m<ipython-input-6-f0da9fae4f30>\u001b[0m in \u001b[0;36m<module>\u001b[0;34m\u001b[0m\n\u001b[1;32m      1\u001b[0m \u001b[0mFunction_links\u001b[0m \u001b[0;34m=\u001b[0m \u001b[0;34m[\u001b[0m\u001b[0;34m]\u001b[0m\u001b[0;34m\u001b[0m\u001b[0;34m\u001b[0m\u001b[0m\n\u001b[0;32m----> 2\u001b[0;31m \u001b[0;32mfor\u001b[0m \u001b[0mt\u001b[0m \u001b[0;32min\u001b[0m \u001b[0mSubjectlinks\u001b[0m\u001b[0;34m:\u001b[0m\u001b[0;34m\u001b[0m\u001b[0;34m\u001b[0m\u001b[0m\n\u001b[0m\u001b[1;32m      3\u001b[0m     \u001b[0mFunction_links\u001b[0m\u001b[0;34m.\u001b[0m\u001b[0mappend\u001b[0m\u001b[0;34m(\u001b[0m\u001b[0mt\u001b[0m\u001b[0;34m)\u001b[0m\u001b[0;34m\u001b[0m\u001b[0;34m\u001b[0m\u001b[0m\n\u001b[1;32m      4\u001b[0m \u001b[0mFunction_links\u001b[0m\u001b[0;34m\u001b[0m\u001b[0;34m\u001b[0m\u001b[0m\n\u001b[1;32m      5\u001b[0m \u001b[0mTop_3\u001b[0m \u001b[0;34m=\u001b[0m \u001b[0mFunction_links\u001b[0m\u001b[0;34m[\u001b[0m\u001b[0;34m:\u001b[0m\u001b[0;36m6\u001b[0m\u001b[0;34m]\u001b[0m\u001b[0;34m\u001b[0m\u001b[0;34m\u001b[0m\u001b[0m\n",
      "\u001b[0;31mNameError\u001b[0m: name 'Subjectlinks' is not defined"
     ]
    }
   ],
   "source": [
    "Function_links = []\n",
    "for t in Subjectlinks:\n",
    "    Function_links.append(t)\n",
    "Function_links\n",
    "Top_3 = Function_links[:6]\n",
    "Top_3"
   ]
  },
  {
   "cell_type": "code",
   "execution_count": null,
   "metadata": {},
   "outputs": [],
   "source": [
    "Sciencelinks"
   ]
  },
  {
   "cell_type": "code",
   "execution_count": null,
   "metadata": {},
   "outputs": [],
   "source": []
  },
  {
   "cell_type": "code",
   "execution_count": null,
   "metadata": {},
   "outputs": [],
   "source": [
    "Selen('mathway.com')"
   ]
  },
  {
   "cell_type": "code",
   "execution_count": null,
   "metadata": {},
   "outputs": [],
   "source": [
    "for i in Top_3:\n",
    "    Selen(i)"
   ]
  },
  {
   "cell_type": "code",
   "execution_count": null,
   "metadata": {
    "scrolled": true
   },
   "outputs": [],
   "source": [
    "\n",
    "\n",
    "\n",
    "\n",
    "class Scraper():\n",
    "    \n",
    "    \n",
    "    link = 'chegg.com'\n",
    "    \n",
    "    browser = webdriver.Chrome('/Users/kourosht/Downloads/chromedriver')\n",
    "    browser.get('https://www.trustpilot.com/')\n",
    "    time.sleep(1.5)\n",
    "    searchbar = browser.find_element_by_class_name('searchInputField___3e9zp')\n",
    "    searchbar.click()\n",
    "    keys  = link\n",
    "    searchbar.send_keys(keys)\n",
    "    \n",
    "    time.sleep(2)\n",
    "    \n",
    "    searchbar.send_keys(Keys.ENTER)\n",
    "\n",
    "  \n",
    "\n",
    "    scrapee = browser.find_elements_by_class_name(\"review-content__text\")\n",
    "    All_reviews = []\n",
    "    filtered_all_reviews = []\n",
    "    final_list = []\n",
    "    final1 = []\n",
    "    reviews = []\n",
    "    for i in scrapee:\n",
    "        reviews.append(i.text)\n",
    "    All_reviews.append(reviews)\n",
    "    \n",
    "    for i in All_reviews:\n",
    "        if i != []:\n",
    "            filtered_all_reviews.append(i)\n",
    "    \n",
    "    this = filtered_all_reviews[0]\n",
    "    \n",
    "    for i in this:\n",
    "        final_list.append(i)\n",
    "   \n",
    "    yup = [re.sub(r'\\n', '', i) for i in final_list]\n",
    "\n",
    "    final = [re.sub(r'^[ \\t]+','',i) for i in yup]\n",
    "    Review_df = pd.DataFrame()\n",
    "    Review_df['review'] = final\n",
    "    for i in final:\n",
    "        final1.append(i)\n",
    "        \n",
    "    \n",
    "    \n",
    "    "
   ]
  },
  {
   "cell_type": "code",
   "execution_count": null,
   "metadata": {},
   "outputs": [],
   "source": [
    "Chegg.final1"
   ]
  },
  {
   "cell_type": "code",
   "execution_count": null,
   "metadata": {
    "scrolled": true
   },
   "outputs": [],
   "source": [
    "Mathway_df = pd.DataFrame()\n",
    "\n",
    "\n",
    "Mathway_df['Reviews'] = final_final\n",
    "\n",
    "final_final"
   ]
  },
  {
   "cell_type": "code",
   "execution_count": null,
   "metadata": {
    "scrolled": false
   },
   "outputs": [],
   "source": [
    "Mathway_df.to_csv('Chegg.csv')"
   ]
  },
  {
   "cell_type": "code",
   "execution_count": null,
   "metadata": {},
   "outputs": [],
   "source": [
    "#yup = [re.sub(r'\\n', '', i) for i in final]\n",
    "\n",
    "#final_t = [re.sub(r'^[ \\t]+','',i) for i in yup]\n",
    "#Review_df = pd.DataFrame()\n",
    "#Review_df['review'] = final_t\n",
    "\n",
    "#Review_df.to_csv('mathway.csv')\n",
    "#df = pd.read_csv('mathway.csv')\n",
    "#df.drop('Unnamed: 0', axis= 1,inplace = True)\n",
    "#df\n"
   ]
  },
  {
   "cell_type": "code",
   "execution_count": 9,
   "metadata": {},
   "outputs": [],
   "source": [
    "def summarize(dataframe):\n",
    "    from spacy.lang.en.stop_words import STOP_WORDS\n",
    "    from string import punctuation\n",
    "    stopwords = list(STOP_WORDS)\n",
    "    from heapq import nlargest\n",
    "\n",
    "\n",
    "    nlp = spacy.load(\"en_core_web_sm\")\n",
    "    text = dataframe\n",
    "    doc = nlp(text)\n",
    "    token = [token.text for token in doc]\n",
    "\n",
    "    punctuation = punctuation + '\\n'\n",
    "    word_frequencies = {}\n",
    "    for word in doc:\n",
    "        if word.text.lower() not in stopwords:\n",
    "            if word.text.lower() not in punctuation:\n",
    "                if word.text not in word_frequencies.keys():\n",
    "                    word_frequencies[word.text] = 1 \n",
    "                else:\n",
    "                    word_frequencies[word.text] += 1\n",
    "    max_frequency = max(word_frequencies.values())\n",
    "\n",
    "    for word in word_frequencies.keys():\n",
    "        word_frequencies[word] = word_frequencies[word]/max_frequency\n",
    "    sentence_tokens = [sent for sent in doc.sents]\n",
    "    sentence_scores = {}\n",
    "    for sent in sentence_tokens:\n",
    "        for word in sent:\n",
    "            if word.text.lower() in word_frequencies.keys():\n",
    "                if sent not in sentence_scores.keys():\n",
    "                    sentence_scores[sent] = word_frequencies[word.text.lower()]\n",
    "                else:\n",
    "                    sentence_scores[sent] += word_frequencies[word.text.lower()]\n",
    "    select_length = int(len(sentence_tokens)*0.3)\n",
    "    summary = nlargest(select_length,sentence_scores, key = sentence_scores.get)\n",
    "    return summary\n"
   ]
  },
  {
   "cell_type": "code",
   "execution_count": null,
   "metadata": {},
   "outputs": [],
   "source": []
  },
  {
   "cell_type": "code",
   "execution_count": null,
   "metadata": {
    "scrolled": true
   },
   "outputs": [],
   "source": []
  },
  {
   "cell_type": "code",
   "execution_count": 103,
   "metadata": {},
   "outputs": [],
   "source": [
    "\n",
    "Chegg_reviews  = [] \n",
    "for i in Chegg.final1:\n",
    "    if summarize(i) != []:\n",
    "        Chegg_reviews.append(summarize(i))"
   ]
  },
  {
   "cell_type": "code",
   "execution_count": 139,
   "metadata": {},
   "outputs": [
    {
     "data": {
      "text/plain": [
       "[but they won't refund the money though we don't like the service due to all answers,\n",
       " I get another email they are going to charge me an additional $94 because they “did not receive the book” which I mailed twice.,\n",
       " So after reviewing the policy, purchased a used book from amazon and shipped that.,\n",
       " I spent $45 on a replacement to avoid paying $94.,\n",
       " Additionally, it is impossible to cancel subscriptions on mobile and additionally impossible to close your chegg account.,\n",
       " I think the company engages in willful ignorance; they know they have a shoddy system that makes it easy to sign up, but extremely difficult to stop the service, while keeping fingers crossed that busy, naive students won't notice or remember.,\n",
       " I know customer service agents have no overt power, but I still hold them accountable for running the company line and participating in such an unethical business process.,\n",
       " The upshot is, I'm supposed to wait for the billing department to research the issue and get back to me at some point, which I doubt they will be able to do being that the agents I spoke to and the system are unable to manage typos.,\n",
       " I was accused of providing the wrong information, or trying to (for unknown reasons) exploit the system, to what end I don't know.,\n",
       " Somehow, despite providing the email associated with the account, my phone number, my zip code, the last 4 of the credit card, and my name...,\n",
       " Somehow, month by month, the system easily locates my account to make the charges, however.,\n",
       " I asked to close my account because at this point I had done with Chegg only to be told I can only close my account after the investigation that Chegg has to do with for me sharing my account is completed.,\n",
       " I have been using Chegg now approaching 3 years went into my account today to find out that my account had been suspended without any warning.,\n",
       " In retaliation, Chegg deleted all accounts who joined a class action suit against them for the breach stating we \"violated their terms of service\", when this is exactly what we should have done according to their TOS.,\n",
       " I joined a class action lawsuit due to the data breach.,\n",
       " I signed up for assistance for maybe 1 homework assignment and realized their business model wasn't worth it.,\n",
       " I asked for a refund and it has been 2 months,\n",
       " I’ve also tried to contact them on numerous occasions via email and their ‘ask us a question service’ and they’ve completely ignored me.,\n",
       " I was a tutor on Chegg for many years but recently my account got suspended for no significant reason.,\n",
       " I had a return mishap, but i called customer service and Jesse, was delightful, and super helpful!,\n",
       " I found out about Chegg when I discovered that my students cheated in our online assessment by posting questions on this website.,\n",
       " When a query is asked for a higher order complexity, solution is provided for lowest order complexity which probably you can workout yourself and call yourself an \"expert\".,\n",
       " Same query raised by multiple users is also answered multiple times, each of them having a different solution and approach.,\n",
       " I was recently looking for help for an assignment and some friends recommended this site.]"
      ]
     },
     "execution_count": 139,
     "metadata": {},
     "output_type": "execute_result"
    }
   ],
   "source": [
    "\n",
    "Chegg_reviews  = [] \n",
    "for i in Chegg.final1:\n",
    "    if summarize(i) != []:\n",
    "        Chegg_reviews.append(summarize(i))\n",
    "Chegg_reviews1 = [] \n",
    "for i in Chegg_reviews:\n",
    "    for t in i:\n",
    "        Chegg_reviews1.append(t)\n",
    "\n",
    "        \n"
   ]
  },
  {
   "cell_type": "code",
   "execution_count": 149,
   "metadata": {},
   "outputs": [],
   "source": [
    "Chegg_df = pd.DataFrame()\n",
    "Chegg_df['review'] = Chegg_reviews1\n",
    "Chegg_df['review']\n",
    "\n",
    "Chegg_df.to_csv('chegg1.csv')"
   ]
  },
  {
   "cell_type": "code",
   "execution_count": 34,
   "metadata": {},
   "outputs": [
    {
     "ename": "IndexError",
     "evalue": "list index out of range",
     "output_type": "error",
     "traceback": [
      "\u001b[0;31m---------------------------------------------------------------------------\u001b[0m",
      "\u001b[0;31mIndexError\u001b[0m                                Traceback (most recent call last)",
      "\u001b[0;32m<ipython-input-34-27c6af91efea>\u001b[0m in \u001b[0;36m<module>\u001b[0;34m\u001b[0m\n\u001b[0;32m----> 1\u001b[0;31m \u001b[0;32mclass\u001b[0m \u001b[0mSubject\u001b[0m\u001b[0;34m(\u001b[0m\u001b[0;34m)\u001b[0m\u001b[0;34m:\u001b[0m\u001b[0;34m\u001b[0m\u001b[0;34m\u001b[0m\u001b[0m\n\u001b[0m\u001b[1;32m      2\u001b[0m \u001b[0;34m\u001b[0m\u001b[0m\n\u001b[1;32m      3\u001b[0m \u001b[0;34m\u001b[0m\u001b[0m\n\u001b[1;32m      4\u001b[0m     \u001b[0mlink\u001b[0m \u001b[0;34m=\u001b[0m \u001b[0;34m'basic-mathmatics.com'\u001b[0m\u001b[0;34m\u001b[0m\u001b[0;34m\u001b[0m\u001b[0m\n\u001b[1;32m      5\u001b[0m \u001b[0;34m\u001b[0m\u001b[0m\n",
      "\u001b[0;32m<ipython-input-34-27c6af91efea>\u001b[0m in \u001b[0;36mSubject\u001b[0;34m()\u001b[0m\n\u001b[1;32m     32\u001b[0m             \u001b[0mfiltered_all_reviews\u001b[0m\u001b[0;34m.\u001b[0m\u001b[0mappend\u001b[0m\u001b[0;34m(\u001b[0m\u001b[0mi\u001b[0m\u001b[0;34m)\u001b[0m\u001b[0;34m\u001b[0m\u001b[0;34m\u001b[0m\u001b[0m\n\u001b[1;32m     33\u001b[0m \u001b[0;34m\u001b[0m\u001b[0m\n\u001b[0;32m---> 34\u001b[0;31m     \u001b[0mthis\u001b[0m \u001b[0;34m=\u001b[0m \u001b[0mfiltered_all_reviews\u001b[0m\u001b[0;34m[\u001b[0m\u001b[0;36m0\u001b[0m\u001b[0;34m]\u001b[0m\u001b[0;34m\u001b[0m\u001b[0;34m\u001b[0m\u001b[0m\n\u001b[0m\u001b[1;32m     35\u001b[0m \u001b[0;34m\u001b[0m\u001b[0m\n\u001b[1;32m     36\u001b[0m     \u001b[0;32mfor\u001b[0m \u001b[0mi\u001b[0m \u001b[0;32min\u001b[0m \u001b[0mthis\u001b[0m\u001b[0;34m:\u001b[0m\u001b[0;34m\u001b[0m\u001b[0;34m\u001b[0m\u001b[0m\n",
      "\u001b[0;31mIndexError\u001b[0m: list index out of range"
     ]
    }
   ],
   "source": [
    "class Subject():\n",
    "    \n",
    "    \n",
    "    link = 'basic-mathmatics.com'\n",
    "    \n",
    "    browser = webdriver.Chrome('/Users/kourosht/Downloads/chromedriver')\n",
    "    browser.get('https://www.trustpilot.com/')\n",
    "    time.sleep(1.5)\n",
    "    searchbar = browser.find_element_by_class_name('searchInputField___3e9zp')\n",
    "    searchbar.click()\n",
    "    keys  = link\n",
    "    searchbar.send_keys(keys)\n",
    "    \n",
    "    time.sleep(2)\n",
    "    \n",
    "    searchbar.send_keys(Keys.ENTER)\n",
    "\n",
    "  \n",
    "\n",
    "    scrapee = browser.find_elements_by_class_name(\"review-content__text\")\n",
    "    All_reviews = []\n",
    "    filtered_all_reviews = []\n",
    "    final_list = []\n",
    "    final1 = []\n",
    "    reviews = []\n",
    "    for i in scrapee:\n",
    "        reviews.append(i.text)\n",
    "    All_reviews.append(reviews)\n",
    "    \n",
    "    for i in All_reviews:\n",
    "        if i != []:\n",
    "            filtered_all_reviews.append(i)\n",
    "    \n",
    "    this = filtered_all_reviews[0]\n",
    "    \n",
    "    for i in this:\n",
    "        final_list.append(i)\n",
    "   \n",
    "    yup = [re.sub(r'\\n', '', i) for i in final_list]\n",
    "\n",
    "    final = [re.sub(r'^[ \\t]+','',i) for i in yup]\n",
    "    Review_df = pd.DataFrame()\n",
    "    Review_df['review'] = final\n",
    "    for i in final:\n",
    "        final1.append(i)\n",
    "           "
   ]
  },
  {
   "cell_type": "code",
   "execution_count": 27,
   "metadata": {},
   "outputs": [],
   "source": [
    "class Subject1():\n",
    "\n",
    "    reviews  = [] \n",
    "    for i in Subject.final1:\n",
    "        if summarize(i) != []:\n",
    "            reviews.append(summarize(i))\n",
    "    reviews1 = [] \n",
    "    for i in reviews:\n",
    "        for t in i:\n",
    "            reviews1.append(t)\n",
    "\n",
    "\n",
    "    df = pd.DataFrame()\n",
    "    df['review'] = reviews1\n",
    "\n",
    "    df.to_csv('enotes.csv')"
   ]
  },
  {
   "cell_type": "code",
   "execution_count": 28,
   "metadata": {},
   "outputs": [
    {
     "data": {
      "text/html": [
       "<div>\n",
       "<style scoped>\n",
       "    .dataframe tbody tr th:only-of-type {\n",
       "        vertical-align: middle;\n",
       "    }\n",
       "\n",
       "    .dataframe tbody tr th {\n",
       "        vertical-align: top;\n",
       "    }\n",
       "\n",
       "    .dataframe thead th {\n",
       "        text-align: right;\n",
       "    }\n",
       "</style>\n",
       "<table border=\"1\" class=\"dataframe\">\n",
       "  <thead>\n",
       "    <tr style=\"text-align: right;\">\n",
       "      <th></th>\n",
       "      <th>review</th>\n",
       "    </tr>\n",
       "  </thead>\n",
       "  <tbody>\n",
       "    <tr>\n",
       "      <td>0</td>\n",
       "      <td>(In, any, case, ,, the, cost, of, a, subscription, to, an, online,...</td>\n",
       "    </tr>\n",
       "    <tr>\n",
       "      <td>1</td>\n",
       "      <td>(You, will, not, gain, anything, from, reading, any, of, the, bana...</td>\n",
       "    </tr>\n",
       "    <tr>\n",
       "      <td>2</td>\n",
       "      <td>(I, canceled, my, trial, and, they, still, charged, me, $, 14.99, ...</td>\n",
       "    </tr>\n",
       "  </tbody>\n",
       "</table>\n",
       "</div>"
      ],
      "text/plain": [
       "                                                                  review\n",
       "0  (In, any, case, ,, the, cost, of, a, subscription, to, an, online,...\n",
       "1  (You, will, not, gain, anything, from, reading, any, of, the, bana...\n",
       "2  (I, canceled, my, trial, and, they, still, charged, me, $, 14.99, ..."
      ]
     },
     "execution_count": 28,
     "metadata": {},
     "output_type": "execute_result"
    }
   ],
   "source": [
    "Subject1.df"
   ]
  },
  {
   "cell_type": "code",
   "execution_count": null,
   "metadata": {},
   "outputs": [],
   "source": []
  },
  {
   "cell_type": "code",
   "execution_count": 49,
   "metadata": {},
   "outputs": [],
   "source": [
    "stopwords = list(STOP_WORDS)\n"
   ]
  },
  {
   "cell_type": "code",
   "execution_count": null,
   "metadata": {},
   "outputs": [],
   "source": []
  },
  {
   "cell_type": "code",
   "execution_count": 50,
   "metadata": {
    "collapsed": true
   },
   "outputs": [
    {
     "data": {
      "text/plain": [
       "\"even one rating is also more for this chegg.this is really worst website and no use. most of the answers were wrong. we can see once we are paid member but they won't refund the money though we don't like the service due to all answers were wrong. Never go for it\""
      ]
     },
     "execution_count": 50,
     "metadata": {},
     "output_type": "execute_result"
    }
   ],
   "source": [
    "\n",
    "nlp = spacy.load(\"en_core_web_sm\")\n",
    "text = Review_df['review'][0]\n",
    "text"
   ]
  },
  {
   "cell_type": "code",
   "execution_count": 51,
   "metadata": {},
   "outputs": [
    {
     "name": "stdout",
     "output_type": "stream",
     "text": [
      "['even', 'one', 'rating', 'is', 'also', 'more', 'for', 'this', 'chegg.this', 'is', 'really', 'worst', 'website', 'and', 'no', 'use', '.', 'most', 'of', 'the', 'answers', 'were', 'wrong', '.', 'we', 'can', 'see', 'once', 'we', 'are', 'paid', 'member', 'but', 'they', 'wo', \"n't\", 'refund', 'the', 'money', 'though', 'we', 'do', \"n't\", 'like', 'the', 'service', 'due', 'to', 'all', 'answers', 'were', 'wrong', '.', 'Never', 'go', 'for', 'it']\n"
     ]
    }
   ],
   "source": [
    "doc = nlp(text)\n",
    "\n",
    "token = [token.text for token in doc]\n",
    "print(token)\n"
   ]
  },
  {
   "cell_type": "code",
   "execution_count": 52,
   "metadata": {},
   "outputs": [
    {
     "data": {
      "text/plain": [
       "'!\"#$%&\\'()*+,-./:;<=>?@[\\\\]^_`{|}~\\n'"
      ]
     },
     "execution_count": 52,
     "metadata": {},
     "output_type": "execute_result"
    }
   ],
   "source": [
    "punctuation = punctuation + '\\n'\n",
    "punctuation\n"
   ]
  },
  {
   "cell_type": "code",
   "execution_count": 53,
   "metadata": {},
   "outputs": [],
   "source": [
    "word_frequencies = {}\n",
    "for word in doc:\n",
    "    if word.text.lower() not in stopwords:\n",
    "        if word.text.lower() not in punctuation:\n",
    "            if word.text not in word_frequencies.keys():\n",
    "                word_frequencies[word.text] = 1 \n",
    "            else:\n",
    "                word_frequencies[word.text] += 1"
   ]
  },
  {
   "cell_type": "code",
   "execution_count": 54,
   "metadata": {},
   "outputs": [
    {
     "data": {
      "text/plain": [
       "{'rating': 1,\n",
       " 'chegg.this': 1,\n",
       " 'worst': 1,\n",
       " 'website': 1,\n",
       " 'use': 1,\n",
       " 'answers': 2,\n",
       " 'wrong': 2,\n",
       " 'paid': 1,\n",
       " 'member': 1,\n",
       " 'wo': 1,\n",
       " 'refund': 1,\n",
       " 'money': 1,\n",
       " 'like': 1,\n",
       " 'service': 1}"
      ]
     },
     "execution_count": 54,
     "metadata": {},
     "output_type": "execute_result"
    }
   ],
   "source": [
    "word_frequencies"
   ]
  },
  {
   "cell_type": "code",
   "execution_count": 55,
   "metadata": {},
   "outputs": [],
   "source": [
    "max_frequency = max(word_frequencies.values())\n"
   ]
  },
  {
   "cell_type": "code",
   "execution_count": 56,
   "metadata": {},
   "outputs": [],
   "source": [
    "for word in word_frequencies.keys():\n",
    "    word_frequencies[word] = word_frequencies[word]/max_frequency"
   ]
  },
  {
   "cell_type": "code",
   "execution_count": 57,
   "metadata": {},
   "outputs": [],
   "source": [
    "sentence_tokens = [sent for sent in doc.sents]"
   ]
  },
  {
   "cell_type": "code",
   "execution_count": 58,
   "metadata": {},
   "outputs": [],
   "source": [
    "sentence_scores = {}\n",
    "for sent in sentence_tokens:\n",
    "    for word in sent:\n",
    "        if word.text.lower() in word_frequencies.keys():\n",
    "            if sent not in sentence_scores.keys():\n",
    "                sentence_scores[sent] = word_frequencies[word.text.lower()]\n",
    "            else:\n",
    "                sentence_scores[sent] += word_frequencies[word.text.lower()]\n"
   ]
  },
  {
   "cell_type": "code",
   "execution_count": 59,
   "metadata": {},
   "outputs": [],
   "source": [
    "from heapq import nlargest"
   ]
  },
  {
   "cell_type": "code",
   "execution_count": 60,
   "metadata": {},
   "outputs": [],
   "source": [
    "select_length = int(len(sentence_tokens)*0.3)\n",
    "\n"
   ]
  },
  {
   "cell_type": "code",
   "execution_count": 78,
   "metadata": {},
   "outputs": [
    {
     "data": {
      "text/plain": [
       "[but they won't refund the money though we don't like the service due to all answers]"
      ]
     },
     "execution_count": 78,
     "metadata": {},
     "output_type": "execute_result"
    }
   ],
   "source": [
    "summary = nlargest(select_length,sentence_scores, key = sentence_scores.get)\n",
    "summary"
   ]
  },
  {
   "cell_type": "code",
   "execution_count": null,
   "metadata": {},
   "outputs": [],
   "source": []
  },
  {
   "cell_type": "code",
   "execution_count": null,
   "metadata": {},
   "outputs": [],
   "source": []
  },
  {
   "cell_type": "code",
   "execution_count": 79,
   "metadata": {},
   "outputs": [
    {
     "name": "stdout",
     "output_type": "stream",
     "text": [
      "[]\n"
     ]
    }
   ],
   "source": [
    "summarize(Review_df['review'][1])\n"
   ]
  },
  {
   "cell_type": "code",
   "execution_count": 63,
   "metadata": {},
   "outputs": [],
   "source": [
    "def SumAll():\n",
    "    for i in range(len(Review_df['review'])):\n",
    "        if summarize(Review_df['review'][i]) != []:\n",
    "               summarize(Review_df['review'][i]) \n",
    "    \n"
   ]
  },
  {
   "cell_type": "code",
   "execution_count": 69,
   "metadata": {},
   "outputs": [],
   "source": [
    "SumAll()"
   ]
  },
  {
   "cell_type": "code",
   "execution_count": null,
   "metadata": {},
   "outputs": [],
   "source": []
  },
  {
   "cell_type": "code",
   "execution_count": null,
   "metadata": {},
   "outputs": [],
   "source": []
  },
  {
   "cell_type": "code",
   "execution_count": null,
   "metadata": {},
   "outputs": [],
   "source": []
  }
 ],
 "metadata": {
  "kernelspec": {
   "display_name": "Python 3",
   "language": "python",
   "name": "python3"
  },
  "language_info": {
   "codemirror_mode": {
    "name": "ipython",
    "version": 3
   },
   "file_extension": ".py",
   "mimetype": "text/x-python",
   "name": "python",
   "nbconvert_exporter": "python",
   "pygments_lexer": "ipython3",
   "version": "3.7.4"
  }
 },
 "nbformat": 4,
 "nbformat_minor": 2
}
